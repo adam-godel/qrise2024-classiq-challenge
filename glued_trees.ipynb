{
 "cells": [
  {
   "cell_type": "code",
   "execution_count": 38,
   "metadata": {},
   "outputs": [],
   "source": [
    "import random\n",
    "class GluedTree:\n",
    "    count1 = 0\n",
    "    count2 = 0\n",
    "    def __init__(self, second):\n",
    "        if second:\n",
    "            self.label = GluedTree.count1*2-GluedTree.count2\n",
    "            GluedTree.count2 += 1\n",
    "        else:\n",
    "            self.label = GluedTree.count1\n",
    "            GluedTree.count1 += 1\n",
    "        self.left = None\n",
    "        self.right = None\n",
    "    @classmethod\n",
    "    def singleTree(self, n, second):\n",
    "        tree = GluedTree(second)\n",
    "        if (n > 0):\n",
    "            tree.left = GluedTree.singleTree(n-1, second)\n",
    "            tree.right = GluedTree.singleTree(n-1, second)\n",
    "        return tree\n",
    "    @classmethod\n",
    "    def gluedTree(self, n):\n",
    "        tree1 = GluedTree.singleTree(n, False)\n",
    "        tree2 = GluedTree.singleTree(n, True)\n",
    "        # connect trees"
   ]
  }
 ],
 "metadata": {
  "kernelspec": {
   "display_name": "Python 3",
   "language": "python",
   "name": "python3"
  },
  "language_info": {
   "codemirror_mode": {
    "name": "ipython",
    "version": 3
   },
   "file_extension": ".py",
   "mimetype": "text/x-python",
   "name": "python",
   "nbconvert_exporter": "python",
   "pygments_lexer": "ipython3",
   "version": "3.10.6"
  }
 },
 "nbformat": 4,
 "nbformat_minor": 2
}
